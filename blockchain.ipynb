{
  "nbformat": 4,
  "nbformat_minor": 0,
  "metadata": {
    "colab": {
      "provenance": []
    },
    "kernelspec": {
      "name": "python3",
      "display_name": "Python 3"
    },
    "language_info": {
      "name": "python"
    }
  },
  "cells": [
    {
      "cell_type": "code",
      "execution_count": 4,
      "metadata": {
        "colab": {
          "base_uri": "https://localhost:8080/"
        },
        "id": "K01P7C0o4zf-",
        "outputId": "6221f44b-41f7-4a4d-9d3b-b3ab49492ce0"
      },
      "outputs": [
        {
          "output_type": "stream",
          "name": "stdout",
          "text": [
            "MindCoin Block Data:\n",
            "Anna sends 2 MC to Mike-Bob sends 4.1 MC to Mike-Initial String\n",
            "MindCoin Block Hash:\n",
            "d2fd96dff3c846d5cfc16f255e4b7e1e8a4702290291ae70963be65bc74eab00\n",
            "\n",
            "MindCoin Block Data:\n",
            "Mike sends 3.2 MC to Bob-Daniel sends 0.3 MC to Anna-d2fd96dff3c846d5cfc16f255e4b7e1e8a4702290291ae70963be65bc74eab00\n",
            "MindCoin Block Hash:\n",
            "44c6032262fc7dd318e2bdfc522e91e91b12cd835d79f9851dad65d79c56370d\n",
            "\n",
            "MindCoin Block Data:\n",
            "Mike sends 1 MC to Charlie-Mike sends 5.4 MC to Daniel-44c6032262fc7dd318e2bdfc522e91e91b12cd835d79f9851dad65d79c56370d\n",
            "MindCoin Block Hash:\n",
            "6b886c380e0f8a48a82f2f40306d366cd045826f600ce675e76f187d2332e15c\n"
          ]
        }
      ],
      "source": [
        "''' MindCoin (MC) '''\n",
        "import hashlib\n",
        "\n",
        "class MindCoinBlock:\n",
        "  def __init__(self, previous_block_hash, transaction_list):\n",
        "    self.previous_block_hash = previous_block_hash\n",
        "    self.transaction_list = transaction_list\n",
        "    self.block_data = \"-\".join(transaction_list) + \"-\" + previous_block_hash\n",
        "    self.block_hash = hashlib.sha256(self.block_data.encode()).hexdigest()\n",
        "\n",
        "\n",
        "t1 = \"Anna sends 2 MC to Mike\"\n",
        "t2 = \"Bob sends 4.1 MC to Mike\"\n",
        "t3 = \"Mike sends 3.2 MC to Bob\"\n",
        "t4 = \"Daniel sends 0.3 MC to Anna\"\n",
        "t5 = \"Mike sends 1 MC to Charlie\"\n",
        "t6 = \"Mike sends 5.4 MC to Daniel\"\n",
        "\n",
        "\n",
        "initial_block = MindCoinBlock(\"Initial String\", [t1, t2])\n",
        "print(\"MindCoin Block Data:\")\n",
        "print(initial_block.block_data)\n",
        "print(\"MindCoin Block Hash:\")\n",
        "print(initial_block.block_hash)\n",
        "\n",
        "second_block = MindCoinBlock(initial_block.block_hash, [t3, t4])\n",
        "print(\"\\nMindCoin Block Data:\")\n",
        "print(second_block.block_data)\n",
        "print(\"MindCoin Block Hash:\")\n",
        "print(second_block.block_hash)\n",
        "\n",
        "third_block = MindCoinBlock(second_block.block_hash, [t5, t6])\n",
        "print(\"\\nMindCoin Block Data:\")\n",
        "print(third_block.block_data)\n",
        "print(\"MindCoin Block Hash:\")\n",
        "print(third_block.block_hash)\n"
      ]
    }
  ]
}